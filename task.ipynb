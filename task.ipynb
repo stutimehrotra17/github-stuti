{
 "cells": [
  {
   "cell_type": "code",
   "execution_count": 21,
   "id": "c35049b8",
   "metadata": {},
   "outputs": [],
   "source": [
    "from math import sqrt\n",
    "import numpy as np"
   ]
  },
  {
   "cell_type": "code",
   "execution_count": 26,
   "id": "af647558",
   "metadata": {},
   "outputs": [],
   "source": [
    "def variance(x):\n",
    "    mean=sum(x)/len(x)\n",
    "    t=0.0\n",
    "    for x in X:\n",
    "        t= t+ (x-mean)**2\n",
    "    return t/[len(x)-1]"
   ]
  },
  {
   "cell_type": "code",
   "execution_count": 28,
   "id": "6844e9c5",
   "metadata": {},
   "outputs": [],
   "source": [
    "def std(x):\n",
    "    mean=sum(x)/len(x)\n",
    "    t=0.0\n",
    "    for x in X:\n",
    "        t= t+ (x-mean)**2\n",
    "    stdev= sqrt(t/len(x))"
   ]
  },
  {
   "cell_type": "code",
   "execution_count": null,
   "id": "8829fec8",
   "metadata": {},
   "outputs": [],
   "source": []
  }
 ],
 "metadata": {
  "kernelspec": {
   "display_name": "Python 3 (ipykernel)",
   "language": "python",
   "name": "python3"
  },
  "language_info": {
   "codemirror_mode": {
    "name": "ipython",
    "version": 3
   },
   "file_extension": ".py",
   "mimetype": "text/x-python",
   "name": "python",
   "nbconvert_exporter": "python",
   "pygments_lexer": "ipython3",
   "version": "3.9.12"
  }
 },
 "nbformat": 4,
 "nbformat_minor": 5
}
